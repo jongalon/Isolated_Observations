{
 "cells": [
  {
   "cell_type": "code",
   "execution_count": 5,
   "metadata": {},
   "outputs": [
    {
     "name": "stdout",
     "output_type": "stream",
     "text": [
      "Precision: 0.587\n",
      "Precision: 58.7%\n"
     ]
    },
    {
     "data": {
      "text/plain": [
       "(type\n",
       " TP    71\n",
       " FP    50\n",
       " Name: count, dtype: int64,\n",
       " Reason\n",
       " Overlapping    29\n",
       " Segment        18\n",
       " Noise          14\n",
       " Intensity      10\n",
       " Name: count, dtype: int64)"
      ]
     },
     "execution_count": 5,
     "metadata": {},
     "output_type": "execute_result"
    }
   ],
   "source": [
    "import pandas as pd\n",
    "\n",
    "import sys\n",
    "import os\n",
    "sys.path.append(os.path.abspath(\"..\"))  \n",
    "sys.path.append(os.path.abspath(\"./src\")) \n",
    "\n",
    "\n",
    "\n",
    "data_path = \"../data/\"\n",
    "output_path = '../output/'\n",
    "\n",
    "dataset ='Automatic_Labeling_Kyoogu/'\n",
    "#dataset ='Dataset_1/'\n",
    "#dataset ='Dataset_2/'\n",
    "\n",
    "\n",
    "# Load the file and examine the necessary columns\n",
    "if dataset == 'Dataset_1/':\n",
    "    file_name = '/All_sounds_subsetA_reviewed.txt'\n",
    "elif dataset == 'Dataset_2/':\n",
    "    file_name = '/All_sounds_subsetB_reviewed.txt'     \n",
    "elif dataset == 'Automatic_Labeling_Kyoogu/':\n",
    "    file_name = '/All_sounds_subsetC_reviewed.txt' \n",
    "\n",
    "\n",
    "data = pd.read_csv(output_path+dataset+'SelectionTables/'+file_name,sep='\\t')\n",
    "\n",
    "\n",
    "# Count TP and FP\n",
    "type_counts = data['type'].value_counts()\n",
    "\n",
    "# Filter data for TP and count reasons\n",
    "tp_data = data[data['type'] == 'TP']\n",
    "\n",
    "\n",
    "tp = type_counts.get('TP', 0) +  type_counts.get('TP ', 0)# Get the value of TP, or 0 if not present\n",
    "fp = type_counts.get('FP', 0)  # Get the value of FP, or 0 if not present\n",
    "\n",
    "# Calculate precision\n",
    "if tp + fp > 0:\n",
    "    precision = tp / (tp + fp)\n",
    "else:\n",
    "    precision = 0  # Avoid division by zero\n",
    "\n",
    "print(f\"Precision: {precision:.3f}\")\n",
    "\n",
    "# Format precision as a percentage with one decimal place\n",
    "precision_percentage = f\"{precision * 100:.1f}%\"\n",
    "print(f\"Precision: {precision_percentage}\")\n",
    "\n",
    "reason_counts = tp_data['Reason'].value_counts()\n",
    "\n",
    "type_counts, reason_counts"
   ]
  }
 ],
 "metadata": {
  "kernelspec": {
   "display_name": "venv",
   "language": "python",
   "name": "python3"
  },
  "language_info": {
   "codemirror_mode": {
    "name": "ipython",
    "version": 3
   },
   "file_extension": ".py",
   "mimetype": "text/x-python",
   "name": "python",
   "nbconvert_exporter": "python",
   "pygments_lexer": "ipython3",
   "version": "3.11.1"
  }
 },
 "nbformat": 4,
 "nbformat_minor": 2
}
